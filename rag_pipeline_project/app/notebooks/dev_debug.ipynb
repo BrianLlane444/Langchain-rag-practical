{
 "cells": [
  {
   "cell_type": "markdown",
   "id": "2f21ab44",
   "metadata": {},
   "source": [
    "Purpose of this notebook: \n",
    "\n",
    "-Manual loading of PDFs\n",
    "-Manual chunking\n",
    "-Manual embedding with OllamaEmbeddings\n",
    "-Manual creation of Chroma vector store\n",
    "-Manual retrieval\n",
    "-Manual prompt formatting\n",
    "-Manual LLM call\n",
    "\n",
    "Meant for debugging, exploring, and understanding each RAG component separately.\n",
    "Manual--> Explicitly executing each stage of the RAG pipeline, calling the PDF loader, the text splitter, the embedding setup.\n",
    "\n",
    "Advantage: I can experiment with different chunk sizes, PDF quality, or prompt formats before automating it in the full pipeline"
   ]
  },
  {
   "cell_type": "code",
   "execution_count": null,
   "id": "b26a5b12",
   "metadata": {},
   "outputs": [],
   "source": [
    "# Cell 0 - Fix sys.path so we can import modules from app/\n",
    "import sys\n",
    "import os\n",
    "\n",
    "# Path: rag_pipeline_project/app/notebooks/\n",
    "# We want to reach: rag_pipeline_project/\n",
    "project_root = os.path.abspath(os.path.join(os.getcwd(), \"../../\"))\n",
    "if project_root not in sys.path:\n",
    "    sys.path.insert(0, project_root)\n"
   ]
  },
  {
   "cell_type": "code",
   "execution_count": null,
   "id": "f384dc24",
   "metadata": {},
   "outputs": [],
   "source": [
    "#Cell 1 - Core pipeline imports\n",
    "from app.pdf_loader import load_pdfs_from_folder\n",
    "from app.ollama_client import ask_ollama\n",
    "\n",
    "from langchain.text_splitter import RecursiveCharacterTextSplitter\n",
    "from langchain.embeddings import OllamaEmbeddings\n",
    "from langchain.vectorstores import Chroma\n"
   ]
  },
  {
   "cell_type": "code",
   "execution_count": null,
   "id": "d1ad3142",
   "metadata": {},
   "outputs": [
    {
     "name": "stdout",
     "output_type": "stream",
     "text": [
      "[DEBUG] Looking for PDFs in: /home/crl/Desktop/Langchain-rag-practical/rag_pipeline_project/documents/sources\n",
      "[DEBUG] Found 1 PDFs: ['Koalitionsvertrag-–-barrierefreie-Version.pdf']\n",
      "Loaded 146 pages from Koalitionsvertrag-–-barrierefreie-Version.pdf\n",
      "Loaded 146 pages\n"
     ]
    }
   ],
   "source": [
    "#Cell 2 - Load PDFs\n",
    "SOURCE_DIR = \"../../documents/sources\"\n",
    "PERSIST_DIR = \"../../embeddings/chromadb\"\n",
    "\n",
    "documents = load_pdfs_from_folder(SOURCE_DIR)\n",
    "print(f\"Loaded {len(documents)} pages\")"
   ]
  },
  {
   "cell_type": "code",
   "execution_count": null,
   "id": "45b9d9e2",
   "metadata": {},
   "outputs": [
    {
     "name": "stdout",
     "output_type": "stream",
     "text": [
      "Split into 483 chunks\n",
      "Verantwortung \n",
      "für Deutschland\n",
      "Koalitionsvertrag zwischen  \n",
      "CDU, CSU und SPD\n",
      "21. Legislaturperiode\n"
     ]
    }
   ],
   "source": [
    "#Cell 3 - Chunk documents\n",
    "splitter = RecursiveCharacterTextSplitter(chunk_size=1200, chunk_overlap=300)\n",
    "chunks = splitter.split_documents(documents)\n",
    "print(f\"Split into {len(chunks)} chunks\")\n",
    "print(chunks[0].page_content)"
   ]
  },
  {
   "cell_type": "code",
   "execution_count": null,
   "id": "2c6185c6",
   "metadata": {},
   "outputs": [
    {
     "name": "stderr",
     "output_type": "stream",
     "text": [
      "/tmp/ipykernel_80077/4236239355.py:2: LangChainDeprecationWarning: The class `OllamaEmbeddings` was deprecated in LangChain 0.3.1 and will be removed in 1.0.0. An updated version of the class exists in the :class:`~langchain-ollama package and should be used instead. To use it run `pip install -U :class:`~langchain-ollama` and import as `from :class:`~langchain_ollama import OllamaEmbeddings``.\n",
      "  embedding_model = OllamaEmbeddings(model=\"nomic-embed-text\")  #alternative backup if this model has issues in different machines \"mxbai-embed-large\"\n"
     ]
    }
   ],
   "source": [
    "#Cell 4 - Create Vector DB using proper embedding model\n",
    "embedding_model = OllamaEmbeddings(model=\"nomic-embed-text\")  #alternative backup if this model has issues in different machines \"mxbai-embed-large\"\n",
    "os.makedirs(PERSIST_DIR, exist_ok=True)\n",
    "vectorstore = Chroma.from_documents(\n",
    "    documents=chunks,\n",
    "    embedding=embedding_model,\n",
    "    persist_directory=PERSIST_DIR,\n",
    ")"
   ]
  },
  {
   "cell_type": "code",
   "execution_count": null,
   "id": "8f2d978d",
   "metadata": {},
   "outputs": [
    {
     "name": "stdout",
     "output_type": "stream",
     "text": [
      "Top 10 Relevant Chunks:\n",
      "\n",
      "--- Chunk 1 ---\n",
      "leisten, auch um sie von der gefährlichen Flucht nach Europa abzuhalten und ihnen in ihrer Heimat \n",
      "Chancen und Perspektiven zu geben. Die Kooperationsbereitschaft der Partnerländer bei den \n",
      "Bemühungen, die irreguläre Migration nach Europa zu begrenzen und eigene Staatsbürgerinnen und \n",
      "Staatsbürger z...\n",
      "\n",
      "--- Chunk 2 ---\n",
      "Osten hat längst bewiesen, dass Transformation gelingen kann. Darauf wollen wir aufbauen. Wer \n",
      "schon einmal Transformation gemeistert hat, kann auch Zukunft gestalten.\n",
      "Koalitionen aus CDU, CSU und SPD waren immer dann stark, wenn wir uns große Antworten zugetraut \n",
      "haben. Das ist auch jetzt unser Ans...\n",
      "\n",
      "--- Chunk 3 ---\n",
      "Westbalkan-Regelung begrenzen\n",
      "Reguläre Migration nach Deutschland im Rahmen der sogenannten Westbalkan-Regelung werden wir \n",
      "auf 25.000 Personen pro Jahr begrenzen.\n",
      "Begrenzung der Migration\n",
      "Zurückweisung an den Staatsgrenzen\n",
      "Wir werden in Abstimmung mit unseren europäischen Nachbarn Zurückweisungen a...\n",
      "\n",
      "--- Chunk 4 ---\n",
      "Jugendmedienschutz. Ein kohärenter Rechtsrahmen zwischen Europa, Bund und den Ländern bietet \n",
      "die Chance, Parallelstrukturen abzubauen und effektive Rechtsdurchsetzung zu erleichtern. Deswegen \n",
      "gestalten wir das Jugendschutzgesetz kohärent zum DSA und zum Jugendmedienschutz-Staatsvertrag. \n",
      "Altersver...\n",
      "\n",
      "--- Chunk 5 ---\n",
      "bessere Startchancen für Bleibeberechtigte schaffen. Die Migrationsberatung für erwachsene \n",
      "Zugewanderte (MBE) wird fortgeführt und auskömmlich finanziert. Ergänzend verbessern wir die  \n",
      "Zusammenarbeit von Bund, Ländern und Kommunen bei der Integration.\n",
      "Wir wollen mehr in Integration investieren, In...\n",
      "\n",
      "--- Chunk 6 ---\n",
      "Reformbedarfes werden wir das Infektionsschutzgesetz in Zusammenarbeit mit den Ländern \n",
      "überarbeiten.\n",
      "AGG-Reform\n",
      "Benachteiligungen und Diskriminierungen sind Gift für gesellschaftliche und wirtschaftliche \n",
      "Entwicklung. Deshalb stärken und verbessern wir den Diskriminierungsschutz.\n",
      "Staatshaftung\n",
      "Wir ...\n",
      "\n",
      "--- Chunk 7 ---\n",
      "Tschechischen Republik werden zügig ausgebaut. Dafür stellen wir schnellstmöglich Planungsrecht und \n",
      "Finanzierung sicher. Europa-Züge mit Fernverkehrsstandard zur besseren Anbindung aller unserer \n",
      "europäischen Nachbarländer werden eingesetzt.\n",
      "Die Straße ist ein bedeutender Verkehrsträger und das Aut...\n",
      "\n",
      "--- Chunk 8 ---\n",
      "aufheben und dadurch befristetes Weiterarbeiten ermöglichen. Darüber hinaus verbessern wir die \n",
      "Hinzuverdienstmöglichkeiten bei der Hinterbliebenenrente. Wir prüfen, wie wir die \n",
      "Hinzuverdienstmöglichkeiten für Rentnerinnen und Rentner in der Grundsicherung im Alter \n",
      "verbessern.\n",
      "Gebrochene Erwerbsbi...\n",
      "\n",
      "--- Chunk 9 ---\n",
      "NCT). Wir fördern Forschung zu Frauengesundheit und postinfektiösen Erkrankungen (Long COVID, \n",
      "ME/CFS und PostVac).\n",
      "•  Meeres-, Klima- und Nachhaltigkeitsforschung: Wir erneuern die deutsche Forschungsflotte und \n",
      "verstetigen die Deutsche Allianz Meeresforschung. Wir stärken die Forschung zu Klimawan...\n",
      "\n",
      "--- Chunk 10 ---\n",
      "eine zentrale Servicestelle zur Verfügung. Wir stellen eine angemessene Beteiligung der Zivilgesellschaft \n",
      "und Gewerkschaften sicher. Bei der Entwicklung von Schlüsseltechnologien unterstützen wir die \n",
      "ökologische, soziale und ökonomische Nachhaltigkeit sowie AI Safety. Wir prüfen, ob und gegebenenf...\n",
      "\n"
     ]
    },
    {
     "name": "stderr",
     "output_type": "stream",
     "text": [
      "/tmp/ipykernel_80077/761250676.py:4: LangChainDeprecationWarning: The method `BaseRetriever.get_relevant_documents` was deprecated in langchain-core 0.1.46 and will be removed in 1.0. Use :meth:`~invoke` instead.\n",
      "  relevant_docs = retriever.get_relevant_documents(sample_query)\n"
     ]
    }
   ],
   "source": [
    "#Cell 5 – Retrieve relevant chunks\n",
    "retriever = vectorstore.as_retriever(search_kwargs={\"k\": 10})\n",
    "sample_query = \"Was steht in der CDU-Wahlprogramm über Migration?\"\n",
    "relevant_docs = retriever.get_relevant_documents(sample_query)\n",
    "\n",
    "print(\"Top 10 Relevant Chunks:\\n\")\n",
    "for i, doc in enumerate(relevant_docs):\n",
    "    print(f\"--- Chunk {i+1} ---\\n{doc.page_content[:300]}...\\n\")\n"
   ]
  },
  {
   "cell_type": "code",
   "execution_count": 7,
   "id": "00e02f10",
   "metadata": {},
   "outputs": [
    {
     "name": "stdout",
     "output_type": "stream",
     "text": [
      "Llama3:70b Response:\n",
      "\n",
      "Let's take a closer look at the CDU election program regarding migration. It seems that they're focusing on regulating and steering migration, while also promoting integration and reducing irregular migration. They plan to limit regular migration from certain countries, like those in the West Balkans, to 25,000 people per year.\n",
      "\n",
      "Additionally, they want to strengthen border controls and work with European partners to reduce irregular migration. They also aim to expand the list of safe countries of origin and make it easier for migrants who are already in Germany to integrate into society.\n",
      "\n",
      "It's interesting that they're highlighting the importance of integrating migrants from the start, including providing language courses, vocational training, and other forms of support. They also want to create a binding integration agreement that outlines rights and responsibilities for both migrants and the German government.\n",
      "\n",
      "What are your thoughts on this approach? Do you think it's a step in the right direction, or do you have concerns about certain aspects of their migration policy?\n"
     ]
    }
   ],
   "source": [
    "# Cell 6 - Build final prompt with system_prompt.json\n",
    "\n",
    "from app.utils import load_system_prompt  # Load motivational interviewing prompt\n",
    "\n",
    "system_prompt = load_system_prompt()\n",
    "\n",
    "context = \"\\n\\n\".join([doc.page_content for doc in relevant_docs])\n",
    "\n",
    "prompt = f\"\"\"{system_prompt}\n",
    "\n",
    "## Retrieved Context:\n",
    "{context}\n",
    "\n",
    "## User Question:\n",
    "{sample_query}\n",
    "\n",
    "## Assistant:\"\"\"  # this tells llama model to respond\n",
    "\n",
    "response = ask_ollama(prompt)\n",
    "print(\"Llama3:70b Response:\\n\")\n",
    "print(response)\n"
   ]
  }
 ],
 "metadata": {
  "kernelspec": {
   "display_name": ".venv",
   "language": "python",
   "name": "python3"
  },
  "language_info": {
   "codemirror_mode": {
    "name": "ipython",
    "version": 3
   },
   "file_extension": ".py",
   "mimetype": "text/x-python",
   "name": "python",
   "nbconvert_exporter": "python",
   "pygments_lexer": "ipython3",
   "version": "3.12.9"
  }
 },
 "nbformat": 4,
 "nbformat_minor": 5
}
