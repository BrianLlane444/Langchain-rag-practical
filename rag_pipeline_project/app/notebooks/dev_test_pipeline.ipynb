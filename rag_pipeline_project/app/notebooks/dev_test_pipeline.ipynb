{
 "cells": [
  {
   "cell_type": "markdown",
   "id": "5fd9e92e",
   "metadata": {},
   "source": [
    "Purpose of this notebook:\n",
    "\n",
    "-Imports and runs the entire run_rag_pipeline(...) function\n",
    "-Toggle force_rebuild\n",
    "-Checks if cache exists\n",
    "-Sends a user query and prints the LLaMA3 response\n",
    "\n",
    "Meant for designed for testing the whole RAG system end-to-end quickly and is perfect for:\n",
    "-Presenting and Checking if everything is working together"
   ]
  },
  {
   "cell_type": "code",
   "execution_count": null,
   "id": "64874358",
   "metadata": {},
   "outputs": [],
   "source": [
    "# Cell 0 — Fix sys.path so we can import modules from app/\n",
    "import sys\n",
    "import os\n",
    "\n",
    "# Path: rag_pipeline_project/app/notebooks/\n",
    "# We want to reach: rag_pipeline_project/\n",
    "project_root = os.path.abspath(os.path.join(os.getcwd(), \"../../\"))\n",
    "if project_root not in sys.path:\n",
    "    sys.path.insert(0, project_root)\n"
   ]
  },
  {
   "cell_type": "code",
   "execution_count": null,
   "id": "c49d7142",
   "metadata": {},
   "outputs": [],
   "source": [
    "# Cell 2: Imports from your RAG app\n",
    "from app.rag_pipeline import run_rag_pipeline\n",
    "from app.utils import clear_cache, is_chroma_cache_present"
   ]
  },
  {
   "cell_type": "markdown",
   "id": "7220dfb5",
   "metadata": {},
   "source": [
    "## Optionally Clear the Cache\n",
    "\n",
    "Use `clear_cache()` if:\n",
    "- You added or changed PDFs\n",
    "- You want to rebuild vector DB from scratch"
   ]
  },
  {
   "cell_type": "code",
   "execution_count": null,
   "id": "75978aef",
   "metadata": {},
   "outputs": [],
   "source": [
    "# Uncomment to delete the embeddings/chromadb folder\n",
    "# clear_cache()\n",
    "\n",
    "# Check if cached embeddings already exist\n",
    "is_chroma_cache_present()"
   ]
  },
  {
   "cell_type": "markdown",
   "id": "823ba9e3",
   "metadata": {},
   "source": [
    "## User Question (based on TikTok misinformation)\n",
    "\n",
    "Set the user’s query. Example:\n",
    "> \"I saw a TikTok saying Germany wants to ban all immigration. Is that true?\""
   ]
  },
  {
   "cell_type": "code",
   "execution_count": null,
   "id": "43124bdc",
   "metadata": {},
   "outputs": [],
   "source": [
    "query = \"I saw a TikTok saying Germany wants to ban all immigration. Is that true?\""
   ]
  },
  {
   "cell_type": "markdown",
   "id": "e6f3ff09",
   "metadata": {},
   "source": [
    "## Run the RAG pipeline\n",
    "\n",
    "This step:\n",
    "1. Uses your motivational interviewing system prompt\n",
    "2. Loads cached ChromaDB if available\n",
    "3. Rebuilds only if forced or missing\n",
    "4. Sends everything to LLaMA3 via Ollama"
   ]
  },
  {
   "cell_type": "code",
   "execution_count": null,
   "id": "207f9a85",
   "metadata": {},
   "outputs": [],
   "source": [
    "# Set force_rebuild to True if PDFs changed or cache is broken\n",
    "force = False\n",
    "\n",
    "response = run_rag_pipeline(query, force_rebuild=force)\n",
    "print(response)"
   ]
  }
 ],
 "metadata": {
  "kernelspec": {
   "display_name": ".venv",
   "language": "python",
   "name": "python3"
  },
  "language_info": {
   "codemirror_mode": {
    "name": "ipython",
    "version": 3
   },
   "file_extension": ".py",
   "mimetype": "text/x-python",
   "name": "python",
   "nbconvert_exporter": "python",
   "pygments_lexer": "ipython3",
   "version": "3.11.0"
  }
 },
 "nbformat": 4,
 "nbformat_minor": 5
}
